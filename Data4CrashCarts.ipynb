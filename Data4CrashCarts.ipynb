{
 "cells": [
  {
   "cell_type": "markdown",
   "metadata": {},
   "source": [
    "## Random Data Generator for Crash Carts Lab:\n",
    "\n",
    "During COVID there are times when I want to generate 'artificial' data for labs where getting students together to do so would be unwise. When they can generate data individually that is, of course, ideal but I'm finding that sometimes the lab just needs some 'fake' data. "
   ]
  },
  {
   "cell_type": "markdown",
   "metadata": {},
   "source": [
    "### Setting up numpy.random\n",
    "\n",
    "The random number generator in numpy has evolved 'recently'. Note that some students find that the current implementation does not work on their Jupyterlab installation. Not sure if it's a numpy version or a Jupyterlab version that is at the root of the problem. If you are remixing this notebook be aware that there may be issues. \n",
    "\n",
    "[numpy.random documentation](https://numpy.org/doc/stable/reference/random/index.html?highlight=random#module-numpy.random)\n",
    "\n",
    "Based on the documentation linked above here is how it starts...."
   ]
  },
  {
   "cell_type": "code",
   "execution_count": 1,
   "metadata": {},
   "outputs": [],
   "source": [
    "import numpy as np\n",
    "import matplotlib as mplot\n",
    "import matplotlib.pyplot as plt\n",
    "\n",
    "from numpy.random import default_rng\n",
    "rng = default_rng()"
   ]
  },
  {
   "cell_type": "markdown",
   "metadata": {},
   "source": [
    "### rng.normal vs rng.standard_normal\n",
    "\n",
    "The core difference for me is that ```rng.standard_normal``` generates random numbers from a normal distribution with mean 0 and standard deviation 1.0.  Since I would usually like to generate my 'fake' data with different means and different standard deviations I need to use ``` rng.normal``` which allows me to control both the mean and the standard deviation.\n",
    "\n",
    "[rng.normal docs](https://numpy.org/doc/stable/reference/random/generated/numpy.random.normal.html?highlight=random%20normal)\n",
    "\n",
    "[ring.standard_normal](https://numpy.org/doc/stable/reference/random/generated/numpy.random.standard_normal.html?highlight=random%20normal#numpy.random.standard_normal)\n",
    "\n",
    "### rng.uniform\n",
    "\n",
    "When I want to generate data I will have an idea of what I desire for the data values or the slope or some feature of the data. I then want to create data points that are 'scattered' around that desired value of the data. To populate my means of my desired data I will draw randomly from a uniform distribution across a range. Then I will \n",
    "\n",
    "[rng.uniform docs](https://numpy.org/doc/stable/reference/random/generated/numpy.random.uniform.html?highlight=random%20uniform#numpy.random.uniform)\n",
    "\n",
    "### np.absolute\n",
    "\n",
    "I feel like I want to draw my data variability from a standard distribution but when I pass that data varibility number as a standard deviation it has to be a + value. ```np.absolute``` lets be take the absolute value of every value in the array.\n",
    "\n",
    "[nop.absolute docs](https://numpy.org/doc/stable/reference/generated/numpy.absolute.html)"
   ]
  },
  {
   "cell_type": "code",
   "execution_count": 11,
   "metadata": {},
   "outputs": [
    {
     "name": "stdout",
     "output_type": "stream",
     "text": [
      "Means of slow data:  [0.95689403 1.10116503 0.72745097 1.18402529 0.64264399 0.25316929]\n",
      "Means of fast data:  [2.06764775 1.72097244 1.49347096 2.0514605  1.63216025 1.44564454]\n",
      "Variability of slow data:  [0.46449021 0.24361745 0.13421339 0.03689287 0.37876498 0.26881626]\n",
      "Variability  of fast data:  [0.39009035 0.06506529 0.34010967 0.5188944  0.1506003  0.33264011]\n",
      "slow data:  [[ 0.94  1.02  0.92  0.41  1.23  0.29]\n",
      " [ 1.09  1.37  1.32  1.07  0.98  0.81]\n",
      " [ 0.75  0.55  0.93  1.03  0.69  0.8 ]\n",
      " [ 1.15  1.19  1.2   1.09  1.24  1.16]\n",
      " [ 0.61  0.38  0.08  0.79 -0.06  0.48]\n",
      " [ 0.    0.63  0.23  0.58  0.05  0.15]]\n",
      "fast data:  [[2.49 2.73 1.96 2.37 1.52 1.85]\n",
      " [1.7  1.67 1.76 1.65 1.68 1.62]\n",
      " [1.76 2.05 1.34 1.79 1.81 1.36]\n",
      " [2.47 1.8  1.58 2.13 2.27 1.56]\n",
      " [1.62 1.74 1.34 1.56 1.78 1.21]\n",
      " [1.45 1.68 1.81 2.06 1.66 1.75]]\n"
     ]
    }
   ],
   "source": [
    "# set up data generation\n",
    "numDataPts = 6\n",
    "numDecimals = 2 # number of decimals to keep in final data generated\n",
    "\n",
    "# sets standard deviation of standard deviation of data - larger => more data scatter\n",
    "# in some circumstances this can lead to generating unreasonable data due to scatter\n",
    "# around the mean. (negative data points rarely make sense) Look at the data generated\n",
    "# adjust appropriately\n",
    "dataScatter = .3 \n",
    "\n",
    "# generate data means\n",
    "meansSlow = rng.uniform(.25, 1.25, numDataPts)\n",
    "meansFast = rng.uniform(1.25, 2.25, numDataPts)\n",
    "print(\"Means of slow data: \",meansSlow)\n",
    "print(\"Means of fast data: \",meansFast)\n",
    "\n",
    "# generate variablility from normal distribution and take magnitude\n",
    "slowVar = rng.normal(0, dataScatter, numDataPts)\n",
    "fastVar = rng.normal(0, 1.5*dataScatter, numDataPts)\n",
    "slowVar = np.absolute(slowVar)\n",
    "fastVar = np.absolute(fastVar)\n",
    "print(\"Variability of slow data: \",slowVar)\n",
    "print(\"Variability  of fast data: \",fastVar)\n",
    "\n",
    "# generate  'fake' data arrays and fill with 0's\n",
    "dataSlow = np.zeros((numDataPts,numDataPts))\n",
    "dataFast = np.zeros((numDataPts,numDataPts))\n",
    "\n",
    "# fill each row of data array with 'noisy data'\n",
    "for i in range(numDataPts):\n",
    "    dataSlow[i] = rng.normal(meansSlow[i], slowVar[i], numDataPts)\n",
    "    dataFast[i] = rng.normal(meansFast[i], fastVar[i], numDataPts)\n",
    "\n",
    "# round off the data so it looks like data\n",
    "dataSlow = dataSlow.round(decimals= numDecimals)\n",
    "dataFast = dataFast.round(decimals= numDecimals)\n",
    "print(\"slow data: \",dataSlow)\n",
    "print(\"fast data: \",dataFast)\n",
    "\n"
   ]
  },
  {
   "cell_type": "code",
   "execution_count": 13,
   "metadata": {},
   "outputs": [
    {
     "data": {
      "image/png": "[encoded data removed]",
      "text/plain": [
       "<Figure size 720x648 with 1 Axes>"
      ]
     },
     "metadata": {
      "needs_background": "light"
     },
     "output_type": "display_data"
    }
   ],
   "source": [
    "# Choose my number of bins and the range of the histogram again.\n",
    "num_bins = 30\n",
    "fullrange = [-3,3]\n",
    "\n",
    "# Assign particular colors to each data set\n",
    "data1Color = \"tab:blue\"\n",
    "data2Color = \"tab:red\"\n",
    "\n",
    "# Explicitly create a figure with a particular plot 'axHist' contained within the figure\n",
    "figHist, axHist = plt.subplots()\n",
    "height, bins, patches = axHist.hist(vals,\n",
    "                                 num_bins,\n",
    "                                 fullrange,\n",
    "                                 histtype = \"bar\",\n",
    "                                 color=data1Color,\n",
    "                                 alpha= .5,\n",
    "                                 label='normal data')\n",
    "\n",
    "# Set the size of my plot for better visibility\n",
    "figHist.set_size_inches(10, 9)\n",
    "\n",
    "# turn on grid lines to help interpretation\n",
    "axHist.grid()\n",
    "\n",
    "# Label the figure\n",
    "plt.xlabel('random generator')\n",
    "plt.ylabel('frequency')\n",
    "plt.title('Histogram of Random Data')\n",
    "\n",
    "# show a legend for what the different parts of the plot mean. The legend grabs the 'lable'\n",
    "# from each plot command to create this\n",
    "plt.legend(loc=1)\n",
    "plt.show()"
   ]
  },
  {
   "cell_type": "code",
   "execution_count": 20,
   "metadata": {},
   "outputs": [],
   "source": [
    "poissonVals = rng.poisson(3,1000)\n",
    "\n",
    "#print(poissonVals)\n"
   ]
  },
  {
   "cell_type": "code",
   "execution_count": 25,
   "metadata": {},
   "outputs": [
    {
     "data": {
      "image/png": "[encoded data removed]",
      "text/plain": [
       "<Figure size 720x648 with 1 Axes>"
      ]
     },
     "metadata": {
      "needs_background": "light"
     },
     "output_type": "display_data"
    }
   ],
   "source": [
    "# Choose my number of bins and the range of the histogram again.\n",
    "num_bins = 30\n",
    "fullrange = [0,10]\n",
    "\n",
    "# Assign particular colors to each data set\n",
    "data1Color = \"tab:blue\"\n",
    "data2Color = \"tab:red\"\n",
    "\n",
    "# Explicitly create a figure with a particular plot 'axHist' contained within the figure\n",
    "figHist2, axHist2 = plt.subplots()\n",
    "height, bins, patches = axHist2.hist(poissonVals,\n",
    "                                 num_bins,\n",
    "                                 fullrange,\n",
    "                                 histtype = \"bar\",\n",
    "                                 color=data2Color,\n",
    "                                 alpha= .5,\n",
    "                                 label='poisson data')\n",
    "\n",
    "# Set the size of my plot for better visibility\n",
    "figHist2.set_size_inches(10, 9)\n",
    "\n",
    "# turn on grid lines to help interpretation\n",
    "axHist2.grid()\n",
    "\n",
    "# Label the figure\n",
    "plt.xlabel('random generator')\n",
    "plt.ylabel('frequency')\n",
    "plt.title('Histogram of Random Data')\n",
    "\n",
    "# show a legend for what the different parts of the plot mean. The legend grabs the 'lable'\n",
    "# from each plot command to create this\n",
    "plt.legend(loc=1)\n",
    "plt.show()"
   ]
  },
  {
   "cell_type": "code",
   "execution_count": null,
   "metadata": {},
   "outputs": [],
   "source": []
  }
 ],
 "metadata": {
  "kernelspec": {
   "display_name": "Python 3",
   "language": "python",
   "name": "python3"
  },
  "language_info": {
   "codemirror_mode": {
    "name": "ipython",
    "version": 3
   },
   "file_extension": ".py",
   "mimetype": "text/x-python",
   "name": "python",
   "nbconvert_exporter": "python",
   "pygments_lexer": "ipython3",
   "version": "3.8.5"
  }
 },
 "nbformat": 4,
 "nbformat_minor": 4
}
